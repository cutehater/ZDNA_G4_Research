{
 "cells": [
  {
   "cell_type": "code",
   "execution_count": 1,
   "metadata": {},
   "outputs": [],
   "source": [
    "import os\n",
    "import numpy as np\n",
    "import pandas as pd\n",
    "import matplotlib.pyplot as plt\n",
    "import optuna\n",
    "import gc\n",
    "\n",
    "from sklearn.metrics import roc_auc_score, f1_score\n",
    "from IPython.display import clear_output\n",
    "\n",
    "from joblib import load\n",
    "from tqdm import trange\n",
    "from tqdm.notebook import tqdm\n",
    "\n",
    "import torch\n",
    "import torch.nn as nn\n",
    "import torch.nn.functional as F\n",
    "\n",
    "from sklearn.preprocessing import LabelBinarizer\n",
    "from sklearn.model_selection import StratifiedKFold\n",
    "\n",
    "from sparse_vector.sparse_vector import SparseVector"
   ]
  },
  {
   "cell_type": "markdown",
   "metadata": {},
   "source": [
    "# Data loading"
   ]
  },
  {
   "cell_type": "code",
   "execution_count": 2,
   "metadata": {},
   "outputs": [],
   "source": [
    "chrom_names = [f'chr{i}' for i in list(range(1, 23)) + ['X', 'Y']]\n",
    "feature_names = [i[:-4] for i in os.listdir('./data_hg_38/features/sparse/stem_cells') \n",
    "                 if i.endswith(\".pkl\") and not \"G-quadruplex\" in i]"
   ]
  },
  {
   "cell_type": "code",
   "execution_count": 3,
   "metadata": {},
   "outputs": [],
   "source": [
    "def chrom_reader(chrom):\n",
    "    files = sorted([i for i in os.listdir(f'./data_hg_38/dna/') if f\"{chrom}_\" in i])\n",
    "    return ''.join([load(f\"./data_hg_38/dna/{file}\") for file in files])"
   ]
  },
  {
   "cell_type": "code",
   "execution_count": 4,
   "metadata": {},
   "outputs": [
    {
     "data": {
      "application/vnd.jupyter.widget-view+json": {
       "model_id": "acdacfc980ec41d4b54fba33487d278d",
       "version_major": 2,
       "version_minor": 0
      },
      "text/plain": [
       "  0%|          | 0/24 [00:00<?, ?it/s]"
      ]
     },
     "metadata": {},
     "output_type": "display_data"
    },
    {
     "data": {
      "application/vnd.jupyter.widget-view+json": {
       "model_id": "91bd98dd4c4c4f6fa06d799abfc9733c",
       "version_major": 2,
       "version_minor": 0
      },
      "text/plain": [
       "  0%|          | 0/321 [00:00<?, ?it/s]"
      ]
     },
     "metadata": {},
     "output_type": "display_data"
    }
   ],
   "source": [
    "DNA = {chrom:chrom_reader(chrom) for chrom in tqdm(chrom_names)}\n",
    "G4 = load('./data_hg_38/targets/sparse/g4.pkl')\n",
    "\n",
    "DNA_features = {feature: load(f'./data_hg_38/features/sparse/stem_cells/{feature}.pkl')\n",
    "                for feature in tqdm(feature_names)}"
   ]
  },
  {
   "cell_type": "markdown",
   "metadata": {},
   "source": [
    "# Dataset class"
   ]
  },
  {
   "cell_type": "code",
   "execution_count": 5,
   "metadata": {},
   "outputs": [],
   "source": [
    "from torch.utils import data\n",
    "\n",
    "class Dataset(data.Dataset):\n",
    "    def __init__(self, chroms, features,\n",
    "                 dna_source, features_source,\n",
    "                 labels_source, intervals):\n",
    "        self.chroms = chroms\n",
    "        self.features = features\n",
    "        self.dna_source = dna_source\n",
    "        self.features_source = features_source\n",
    "        self.labels_source = labels_source\n",
    "        self.intervals = intervals\n",
    "        self.le = LabelBinarizer().fit(np.array([[\"A\"], [\"C\"], [\"T\"], [\"G\"]]))\n",
    "\n",
    "    def __len__(self):\n",
    "        return len(self.intervals)\n",
    "\n",
    "    def __getitem__(self, index):\n",
    "        interval = self.intervals[index]\n",
    "        chrom = interval[0]\n",
    "        begin = int(interval[1])\n",
    "        end = int(interval[2])\n",
    "        dna_OHE = self.le.transform(list(self.dna_source[chrom][begin:end].upper()))\n",
    "\n",
    "        feature_matr = []\n",
    "        for feature in self.features:\n",
    "            source = self.features_source[feature]\n",
    "            if chrom in source:\n",
    "                feature_matr.append(source[chrom][begin:end])\n",
    "            else:\n",
    "                feature_matr.append(np.zeros(end-begin, dtype=np.float32))\n",
    "        if len(feature_matr) > 0:\n",
    "            X = np.hstack((dna_OHE, np.array(feature_matr).T/1000)).astype(np.float32)\n",
    "        else:\n",
    "            X = dna_OHE.astype(np.float32)\n",
    "        y = self.labels_source[interval[0]][interval[1]: interval[2]]\n",
    "\n",
    "        return (X, y)"
   ]
  },
  {
   "cell_type": "markdown",
   "metadata": {},
   "source": [
    "# Data selection"
   ]
  },
  {
   "cell_type": "code",
   "execution_count": 6,
   "metadata": {},
   "outputs": [],
   "source": [
    "def get_train_test_data(width):\n",
    "    np.random.seed(10)\n",
    "    \n",
    "    ints_in = []\n",
    "    ints_out = []\n",
    "\n",
    "    for chrm in chrom_names:\n",
    "        for st in range(0, G4[chrm].shape - width, width):\n",
    "            interval = [st, min(st + width, G4[chrm].shape)]\n",
    "            if G4[chrm][interval[0]: interval[1]].any():\n",
    "                ints_in.append([chrm, interval[0], interval[1]])\n",
    "            else:\n",
    "                ints_out.append([chrm, interval[0], interval[1]])\n",
    "\n",
    "    ints_in = np.array(ints_in)\n",
    "    ints_out = np.array(ints_out)[np.random.choice(range(len(ints_out)), size=len(ints_in) * 3, replace=False)]\n",
    "    \n",
    "    np.random.seed(42)\n",
    "    equalized = np.vstack((ints_in, ints_out))\n",
    "    equalized = [[inter[0], int(inter[1]), int(inter[2])] for inter in equalized]\n",
    "    \n",
    "    train_inds, test_inds = next(StratifiedKFold().split(equalized, [elem[0] for elem in equalized]))\n",
    "    train_intervals, test_intervals = [equalized[i] for i in train_inds], [equalized[i] for i in test_inds]\n",
    "    \n",
    "    np.random.seed(42)\n",
    "    params = {'batch_size': 32,\n",
    "              'num_workers':16,\n",
    "              'shuffle':True}\n",
    "    \n",
    "    train_dataset = Dataset(chrom_names, feature_names, \n",
    "                           DNA, DNA_features, \n",
    "                           G4, train_intervals)\n",
    "    \n",
    "    test_dataset = Dataset(chrom_names, feature_names, \n",
    "                           DNA, DNA_features, \n",
    "                           G4, test_intervals)\n",
    "    \n",
    "    loader_train = data.DataLoader(train_dataset, **params)\n",
    "    loader_test = data.DataLoader(test_dataset, **params)\n",
    "    \n",
    "    return loader_train, loader_test"
   ]
  },
  {
   "cell_type": "markdown",
   "metadata": {},
   "source": [
    "# Train and test"
   ]
  },
  {
   "cell_type": "code",
   "execution_count": 7,
   "metadata": {},
   "outputs": [],
   "source": [
    "from torch import nn\n",
    "import torch.nn.functional as F\n",
    "from sklearn.metrics import roc_auc_score, f1_score, precision_score, recall_score\n",
    "from IPython.display import clear_output\n",
    "import time\n",
    "from copy import deepcopy"
   ]
  },
  {
   "cell_type": "code",
   "execution_count": 21,
   "metadata": {},
   "outputs": [],
   "source": [
    "def loss_func(output, y_batch):\n",
    "    return torch.nn.NLLLoss()(torch.transpose(output, 2, 1), y_batch)\n",
    "\n",
    "def train_epoch(model, optimizer):\n",
    "    roc_auc_log, precision_log, recall_log, f1_log, acc_log, loss_log = [], [], [], [], [], []\n",
    "    model.train()\n",
    "    for X_batch, y_batch in loader_train:\n",
    "        device = torch.device(\"cuda:0\" if torch.cuda.is_available() else \"cpu\")\n",
    "        X_batch, y_batch = X_batch.to(device), y_batch.to(device).long()\n",
    "        optimizer.zero_grad()\n",
    "        output = model(X_batch)\n",
    "        if output.dim() == 2:  \n",
    "            output = output.unsqueeze(0)  \n",
    "        pred = torch.argmax(output, dim=2)\n",
    "        with torch.no_grad():\n",
    "            y_pred = nn.Softmax(dim=1)(output)[:, :,1].cpu().numpy().flatten()\n",
    "            if np.std(y_batch.cpu().numpy().flatten()) == 0:\n",
    "                roc_auc = 0\n",
    "                precision = 0\n",
    "                recall = 0\n",
    "            else:\n",
    "                roc_auc = roc_auc_score(y_batch.cpu().numpy().flatten(),\n",
    "                                        y_pred)\n",
    "\n",
    "                precision = precision_score(y_batch.cpu().numpy().flatten(), pred.cpu().numpy().flatten(), zero_division=0)\n",
    "                recall = recall_score(y_batch.cpu().numpy().flatten(), pred.cpu().numpy().flatten())\n",
    "                \n",
    "            precision_log.append(precision)\n",
    "            recall_log.append(recall)             \n",
    "            f1_log.append(f1_score(y_batch.cpu().numpy().flatten(),\n",
    "                             pred.cpu().numpy().flatten(), zero_division=0))\n",
    "\n",
    "        roc_auc_log.append(roc_auc)\n",
    "        acc = torch.mean((pred.to(device) == y_batch).float())\n",
    "        acc_log.append(acc.cpu().numpy())\n",
    "        loss = loss_func(output, y_batch)\n",
    "        loss.backward()\n",
    "        optimizer.step()\n",
    "        \n",
    "        loss = loss.item()\n",
    "        loss_log.append(loss)\n",
    "        torch.cuda.empty_cache()\n",
    "    return roc_auc_log, precision_log, recall_log, f1_log, acc_log, loss_log\n",
    "\n",
    "def test(model):\n",
    "    np.random.seed(42)\n",
    "    roc_auc_log, precision_log, recall_log, f1_log, acc_log, loss_log = [], [], [], [], [], []\n",
    "    model.eval()\n",
    "    means = []\n",
    "    with torch.no_grad():\n",
    "        for X_batch, y_batch in loader_test:\n",
    "            device = torch.device(\"cuda:0\" if torch.cuda.is_available() else \"cpu\")\n",
    "            X_batch, y_batch = X_batch.to(device), y_batch.to(device).long()\n",
    "            output = model(X_batch)\n",
    "\n",
    "            if output.dim() == 2:  \n",
    "                output = output.unsqueeze(0)  \n",
    "            means.append(y_batch.sum().cpu() / (1.0 * y_batch.shape[0]))\n",
    "            pred = torch.argmax(output, dim=2)\n",
    "            if np.std(y_batch.cpu().numpy().flatten()) == 0:\n",
    "                roc_auc = 0\n",
    "                precision = 0\n",
    "                recall = 0\n",
    "            else:\n",
    "                roc_auc = roc_auc_score(y_batch.cpu().numpy().flatten(),\n",
    "                                        nn.Softmax(dim=1)(output)[:, :,1].detach().cpu().numpy().flatten())\n",
    "                precision = precision_score(y_batch.cpu().numpy().flatten(), pred.cpu().numpy().flatten(), zero_division=0)\n",
    "                recall = recall_score(y_batch.cpu().numpy().flatten(), pred.cpu().numpy().flatten())\n",
    "\n",
    "            f1 = f1_score(y_batch.cpu().numpy().flatten(),\n",
    "                                      pred.cpu().numpy().flatten(), zero_division=0)\n",
    "            if f1 == 0.0 and torch.all(y_batch == 0) and torch.all(pred == 0):\n",
    "                pass\n",
    "            else:\n",
    "                f1_log.append(f1)\n",
    "            roc_auc_log.append(roc_auc)\n",
    "            precision_log.append(precision)\n",
    "            recall_log.append(recall)     \n",
    "            acc = torch.mean((pred.to(device) == y_batch).float())\n",
    "            acc_log.append(acc.cpu().numpy())\n",
    "            loss = loss_func(output, y_batch)\n",
    "            loss_log.append(loss.item())\n",
    "            torch.cuda.empty_cache()\n",
    "    return roc_auc_log, precision_log, recall_log, f1_log, acc_log, loss_log\n",
    "\n",
    "def plot_history(train_history, valid_history, title, BatchSize, epoch_to_show=20):\n",
    "    plt.figure(figsize=(epoch_to_show, 4))\n",
    "    plt.title(title)    \n",
    "    \n",
    "    epoch_num = len(valid_history)\n",
    "    train_history = np.array([None] * (BatchSize * epoch_to_show) + train_history)\n",
    "    valid_history = np.array([None] * epoch_to_show + valid_history)\n",
    "    \n",
    "    plt.plot(np.linspace(epoch_num-epoch_to_show+1, epoch_num+1, (epoch_to_show+1)*BatchSize), \n",
    "             train_history[-(epoch_to_show+1)*BatchSize:], c='red', label='train')\n",
    "    plt.plot(np.linspace(epoch_num-epoch_to_show+1, epoch_num+1, epoch_to_show+1),\n",
    "                valid_history[-epoch_to_show-1:], c='green', label='test')\n",
    "    \n",
    "    plt.ylim((0, 1))\n",
    "    plt.yticks(np.linspace(0, 1, 11))\n",
    "    plt.xticks(np.arange(epoch_num-epoch_to_show+1, epoch_num+2), \n",
    "              np.arange(epoch_num-epoch_to_show, epoch_num+1).astype(int))\n",
    "    plt.xlabel('train steps')\n",
    "    plt.legend(loc='best')\n",
    "    plt.grid()\n",
    "    plt.show()\n",
    "    \n",
    "def train(model, opt, n_epochs, scheduler=None):\n",
    "    for epoch in range(n_epochs):\n",
    "        start_time = time.time()\n",
    "        print(\"Epoch {} of {}\".format(epoch + 1, n_epochs))\n",
    "        train_auc, train_pr, train_rec, train_f1, train_acc, train_loss = train_epoch(model, opt)\n",
    "        val_auc, val_pr, val_rec, val_f1, val_acc, val_loss = test(model)\n",
    "        \n",
    "        best_models.append(deepcopy(model))\n",
    "        \n",
    "        end_time = time.time()\n",
    "        times.append(end_time - start_time)\n",
    "        BatchSize = len(train_loss)\n",
    "        \n",
    "        train_auc_log.extend(train_auc)\n",
    "        train_pr_log.extend(train_pr)\n",
    "        train_rec_log.extend(train_rec)\n",
    "        train_f1_log.extend(train_f1)\n",
    "        train_acc_log.extend(train_acc)\n",
    "        train_loss_log.extend(train_loss)\n",
    "\n",
    "        val_auc_log.append(np.mean(val_auc))\n",
    "        val_pr_log.append(np.mean(val_pr))\n",
    "        val_rec_log.append(np.mean(val_rec))\n",
    "        val_f1_log.append(np.mean(val_f1))\n",
    "        val_acc_log.append(np.mean(val_acc))\n",
    "        val_loss_log.append(np.mean(val_loss))\n",
    "        \n",
    "        clear_output()\n",
    "        plot_history(train_loss_log,     val_loss_log,     'Loss',     BatchSize, epoch_to_show=n_epochs)    \n",
    "        plot_history(train_acc_log, val_acc_log, 'Accuracy', BatchSize, epoch_to_show=n_epochs)\n",
    "        plot_history(train_auc_log, val_auc_log, 'Auc',      BatchSize, epoch_to_show=n_epochs)\n",
    "        plot_history(train_f1_log, val_f1_log,   'F1',       BatchSize, epoch_to_show=n_epochs)\n",
    "        print(\"Time: \", end_time/60)\n",
    "        print(\"Epoch {}: ROC-AUC = {:.2%}\".format(epoch+1, val_auc_log[-1]))\n",
    "        print(\"Epoch {}: Precision = {:.3}\".format(epoch+1, val_pr_log[-1]))\n",
    "        print(\"Epoch {}: Recall = {:.3}\".format(epoch+1, val_rec_log[-1]))\n",
    "        print(\"Epoch {}: F1-score = {:.3}\".format(epoch+1, val_f1_log[-1]))\n",
    "           \n",
    "    print(\"Final ROC-AUC = {:.4}%\".format(val_auc_log[-1]*100))\n",
    "    print(\"Final Precision = {:.3}\".format(val_pr_log[-1]))\n",
    "    print(\"Final Recall = {:.3}\".format(val_rec_log[-1]))\n",
    "    print(\"Final F1-score = {:.3}\".format(val_f1_log[-1]))\n",
    "    \n",
    "def train_optuna(trial, model, opt, n_epochs):\n",
    "    best_f1 = 0\n",
    "    for epoch in range(n_epochs):\n",
    "        train_auc, train_pr, train_rec, train_f1, train_acc, train_loss = train_epoch(model, opt)\n",
    "        val_auc, val_pr, val_rec, val_f1, val_acc, val_loss = test(model)\n",
    "        \n",
    "        cur_f1 = np.mean(val_f1)\n",
    "        best_f1 = max(best_f1, cur_f1)\n",
    "        print(\"Epoch {}: F1-score = {:.3}\".format(epoch+1, cur_f1))\n",
    "        trial.report(best_f1, epoch)\n",
    "        if trial.should_prune() or best_f1 < 0.4:\n",
    "            raise optuna.exceptions.TrialPruned()\n",
    "\n",
    "    return best_f1"
   ]
  },
  {
   "cell_type": "code",
   "execution_count": 9,
   "metadata": {},
   "outputs": [],
   "source": [
    "def set_random_seed(seed):\n",
    "    torch.manual_seed(seed)\n",
    "    torch.cuda.manual_seed_all(seed)\n",
    "    torch.backends.cudnn.deterministic = True\n",
    "    torch.backends.cudnn.benchmark = False"
   ]
  },
  {
   "cell_type": "markdown",
   "metadata": {},
   "source": [
    "# Add logging + prepare datasets"
   ]
  },
  {
   "cell_type": "code",
   "execution_count": 10,
   "metadata": {},
   "outputs": [
    {
     "data": {
      "application/javascript": [
       "IPython.notebook.set_autosave_interval(5000)"
      ]
     },
     "metadata": {},
     "output_type": "display_data"
    },
    {
     "name": "stdout",
     "output_type": "stream",
     "text": [
      "Autosaving every 5 seconds\n"
     ]
    }
   ],
   "source": [
    "import sys\n",
    "import logging\n",
    "\n",
    "nblog = open(\"./logs/cnn_g4_optuna.log\", \"a+\")\n",
    "sys.stdout.echo = nblog\n",
    "sys.stderr.echo = nblog\n",
    "\n",
    "get_ipython().log.handlers[0].stream = nblog\n",
    "get_ipython().log.setLevel(logging.INFO)\n",
    "\n",
    "%autosave 5"
   ]
  },
  {
   "cell_type": "code",
   "execution_count": 11,
   "metadata": {},
   "outputs": [],
   "source": [
    "width = 100\n",
    "loader_train, loader_test = get_train_test_data(width)"
   ]
  },
  {
   "cell_type": "markdown",
   "metadata": {},
   "source": [
    "# Baseline"
   ]
  },
  {
   "cell_type": "code",
   "execution_count": 12,
   "metadata": {},
   "outputs": [],
   "source": [
    "class DeepCNN_12_layers(nn.Module):\n",
    "    def __init__(self):\n",
    "        super().__init__()\n",
    "        self.seq = nn.Sequential(\n",
    "            nn.Conv2d(1, 4, kernel_size=(3, 3), padding=1),\n",
    "            nn.ReLU(),\n",
    "            nn.GroupNorm(2, 4),\n",
    "\n",
    "\n",
    "            nn.Conv2d(4, 8, kernel_size=(3, 3), padding=1),\n",
    "            nn.ReLU(),\n",
    "            nn.GroupNorm(4, 8),\n",
    " \n",
    "\n",
    "            nn.Conv2d(8, 16, kernel_size=(3, 3), padding=1),\n",
    "            nn.ReLU(),\n",
    "            nn.GroupNorm(8, 16),\n",
    "\n",
    "\n",
    "            nn.Conv2d(16, 32, kernel_size=(3, 3), padding=1),\n",
    "            nn.ReLU(),\n",
    "            nn.GroupNorm(16, 32),\n",
    "\n",
    "\n",
    "            nn.Conv2d(32, 64, kernel_size=(3, 3), padding=1),\n",
    "            nn.ReLU(),\n",
    "            nn.GroupNorm(16, 64), \n",
    "\n",
    "            nn.Conv2d(64, 128, kernel_size=(5, 5), padding=2),\n",
    "            nn.ReLU(),\n",
    "            nn.GroupNorm(32, 128),  \n",
    "\n",
    "\n",
    "            nn.Conv2d(128, 64, kernel_size=(3, 3), padding=1),  \n",
    "            nn.ReLU(),\n",
    "            nn.GroupNorm(32, 64),  \n",
    "\n",
    "\n",
    "            \n",
    "            nn.Conv2d(64, 32, kernel_size=(3, 3), padding=1),\n",
    "            nn.ReLU(),\n",
    "            nn.GroupNorm(16, 32),  \n",
    "\n",
    "\n",
    "            nn.Conv2d(32, 16, kernel_size=(3, 3), padding=1),\n",
    "            nn.ReLU(),\n",
    "            nn.GroupNorm(8, 16), \n",
    "\n",
    "\n",
    "            nn.Conv2d(16, 8, kernel_size=(3, 3), padding=1),  \n",
    "            nn.ReLU(),\n",
    "            nn.GroupNorm(4, 8),  \n",
    "\n",
    "\n",
    "            nn.Conv2d(8, 4, kernel_size=(3, 3), padding=1),\n",
    "            nn.ReLU(),\n",
    "            nn.GroupNorm(4, 4),  \n",
    "\n",
    "\n",
    "            nn.Conv2d(4, 1, kernel_size=(3, 3), padding=1),  \n",
    "            nn.ReLU(),\n",
    "            nn.GroupNorm(1, 1), \n",
    "\n",
    "\n",
    "            \n",
    "            nn.AlphaDropout(p = 0.2),\n",
    "            nn.Linear(len(feature_names) + 4, 500),\n",
    "            nn.AlphaDropout(p = 0.2),\n",
    "            nn.SELU(),\n",
    "            nn.Linear(500, 2)\n",
    "    )\n",
    "\n",
    "    def forward(self, x):\n",
    "        batch = x.shape[0]\n",
    "        x = x.reshape(batch, 1, width, len(feature_names) + 4)\n",
    "        x = self.seq(x)\n",
    "        x = torch.squeeze(x)\n",
    "        x = F.log_softmax(x, dim=-1)\n",
    "        return x"
   ]
  },
  {
   "cell_type": "code",
   "execution_count": 15,
   "metadata": {},
   "outputs": [
    {
     "data": {
      "text/plain": [
       "34"
      ]
     },
     "execution_count": 15,
     "metadata": {},
     "output_type": "execute_result"
    }
   ],
   "source": [
    "set_random_seed(42)\n",
    "torch.cuda.empty_cache()\n",
    "device = torch.device(\"cuda:0\" if torch.cuda.is_available() else \"cpu\")\n",
    "\n",
    "with torch.cuda.device(device):\n",
    "    model = DeepCNN_12_layers()\n",
    "    model = nn.DataParallel(model)\n",
    "    model = model.to(device)\n",
    "opt = torch.optim.RMSprop(model.parameters(), lr=10**-4, weight_decay=10**-4)\n",
    "\n",
    "gc.collect()"
   ]
  },
  {
   "cell_type": "code",
   "execution_count": 52,
   "metadata": {},
   "outputs": [
    {
     "data": {
      "image/png": "[encoded data removed]",
      "text/plain": [
       "<Figure size 1440x288 with 1 Axes>"
      ]
     },
     "metadata": {
      "needs_background": "light"
     },
     "output_type": "display_data"
    },
    {
     "data": {
      "image/png": "[encoded data removed]",
      "text/plain": [
       "<Figure size 1440x288 with 1 Axes>"
      ]
     },
     "metadata": {
      "needs_background": "light"
     },
     "output_type": "display_data"
    },
    {
     "data": {
      "image/png": "[encoded data removed]",
      "text/plain": [
       "<Figure size 1440x288 with 1 Axes>"
      ]
     },
     "metadata": {
      "needs_background": "light"
     },
     "output_type": "display_data"
    },
    {
     "data": {
      "image/png": "[encoded data removed]",
      "text/plain": [
       "<Figure size 1440x288 with 1 Axes>"
      ]
     },
     "metadata": {
      "needs_background": "light"
     },
     "output_type": "display_data"
    },
    {
     "name": "stdout",
     "output_type": "stream",
     "text": [
      "Time:  29104278.46463835\n",
      "Epoch 20: ROC-AUC = 85.10%\n",
      "Epoch 20: Precision = 0.709\n",
      "Epoch 20: Recall = 0.653\n",
      "Epoch 20: F1-score = 0.679\n",
      "Final ROC-AUC = 85.1%\n",
      "Final Precision = 0.709\n",
      "Final Recall = 0.653\n",
      "Final F1-score = 0.679\n"
     ]
    }
   ],
   "source": [
    "train_auc_log, train_pr_log, train_rec_log, train_f1_log, train_acc_log, train_loss_log = [], [], [], [], [], []\n",
    "val_auc_log, val_pr_log, val_rec_log, val_f1_log, val_acc_log, val_loss_log = [], [], [], [], [], []\n",
    "times = []\n",
    "best_models = []\n",
    "\n",
    "train(model, opt, 20)"
   ]
  },
  {
   "cell_type": "code",
   "execution_count": 53,
   "metadata": {},
   "outputs": [
    {
     "name": "stdout",
     "output_type": "stream",
     "text": [
      "Epoch 19\n",
      "Max F1-score: 67.8567%\n",
      "ROC-AUC: 85.0995%\n",
      "Precision: 0.7093\n",
      "Recall: 0.6531\n",
      "Mean time for 1 epoch 32.84 minutes\n"
     ]
    }
   ],
   "source": [
    "print(\"Epoch {}\".format(np.argmax(val_f1_log)))\n",
    "print(\"Max F1-score: {:.4f}%\".format(val_f1_log[np.argmax(val_f1_log)]*100))\n",
    "print(\"ROC-AUC: {:.4f}%\".format(val_auc_log[np.argmax(val_f1_log)]*100))\n",
    "print(\"Precision: {:.4f}\".format(val_pr_log[np.argmax(val_f1_log)]))\n",
    "print(\"Recall: {:.4f}\".format(val_rec_log[np.argmax(val_f1_log)]))\n",
    "\n",
    "print(\"Mean time for 1 epoch {:.2f} minutes\".format(np.mean(times) / 60))"
   ]
  },
  {
   "cell_type": "code",
   "execution_count": 54,
   "metadata": {},
   "outputs": [],
   "source": [
    "torch.save(best_models[np.argmax(val_f1_log)].state_dict(), './models/g4_baseline.pt')"
   ]
  },
  {
   "cell_type": "markdown",
   "metadata": {},
   "source": [
    "# Optuning model class"
   ]
  },
  {
   "cell_type": "code",
   "execution_count": 18,
   "metadata": {},
   "outputs": [],
   "source": [
    "def suggest_activation(trial):\n",
    "    activation_name = trial.suggest_categorical(\"activation_layer\", [\"ReLU\", \"LeakyReLU\", \"PReLU\", \"ELU\", \"SELU\"])\n",
    "    activation_map = {\n",
    "        \"ReLU\": nn.ReLU(),\n",
    "        \"LeakyReLU\": nn.LeakyReLU(),\n",
    "        \"PReLU\": nn.PReLU(),\n",
    "        \"ELU\": nn.ELU(),\n",
    "        \"SELU\": nn.SELU(),\n",
    "    }\n",
    "    return activation_map[activation_name]\n",
    "\n",
    "class DeepCNN_OptunaTuned(nn.Module):\n",
    "    def __init__(self, trial, width):\n",
    "        super().__init__()\n",
    "        self.width = width\n",
    "        self.conv_layers = self._build_conv(trial)\n",
    "        self.flattened_size = self._get_flattened_size()\n",
    "        self.fc_layers = self._build_fc(trial)\n",
    "\n",
    "    def _build_conv(self, trial):\n",
    "        n_layers = trial.suggest_int(\"n_layers\", 2, 16, step=2)\n",
    "        layers = []\n",
    "        \n",
    "        kernel_size = trial.suggest_categorical(\"kernel_size\", [3, 5, 7])\n",
    "        activation_layer = suggest_activation(trial)\n",
    "        \n",
    "        in_channels = 1\n",
    "        for i in range(n_layers):\n",
    "            out_channels_multiplier = trial.suggest_categorical(f\"out_channels_multiplier_{i}\", [2, 4, 8])\n",
    "            if i < n_layers // 2:\n",
    "                out_channels = min(512, in_channels * out_channels_multiplier)\n",
    "            elif i == n_layers - 1 or in_channels // out_channels_multiplier == 0:\n",
    "                out_channels = 1\n",
    "            else:\n",
    "                out_channels = in_channels // out_channels_multiplier\n",
    "            \n",
    "            stride = trial.suggest_categorical(f\"stride_{i}\", [1, 2])\n",
    "            dilation = trial.suggest_categorical(f\"dilation_{i}\", [1, 2, 3])\n",
    "            padding = (kernel_size - 1) * dilation // 2\n",
    "            \n",
    "            layers.append(nn.Conv2d(in_channels, out_channels, kernel_size, stride=stride, dilation=dilation, padding=padding))\n",
    "            \n",
    "            num_groups = trial.suggest_categorical(f\"num_groups_{i}\", [1, 2, 4, 8, 16, 32])\n",
    "            layers.append(nn.GroupNorm(min(num_groups, out_channels), out_channels))\n",
    "            \n",
    "            layers.append(activation_layer)\n",
    "            \n",
    "            in_channels = out_channels\n",
    "            \n",
    "        return nn.Sequential(*layers)\n",
    "\n",
    "    def _get_flattened_size(self):\n",
    "        with torch.no_grad():\n",
    "            dummy_input = torch.zeros(1, 1, self.width, len(feature_names) + 4)\n",
    "            dummy_output = self.conv_layers(dummy_input)\n",
    "            return dummy_output.shape[2] * dummy_output.shape[3]\n",
    "        \n",
    "    def _build_fc(self, trial):\n",
    "        linear_size = trial.suggest_int(\"linear_size\", self.width * 4, self.width * 40, log=True)\n",
    "        return nn.Sequential(\n",
    "            nn.AlphaDropout(p=trial.suggest_float(\"dropout_before_linear\", 0.15, 0.75, step=0.05)),\n",
    "            nn.Flatten(-2, -1),\n",
    "            nn.Linear(self.flattened_size, linear_size),\n",
    "            nn.AlphaDropout(p=trial.suggest_float(\"dropout_after_linear\", 0.15, 0.75, step=0.05)),\n",
    "            suggest_activation(trial),\n",
    "            nn.Linear(linear_size, self.width * 2),\n",
    "            nn.Unflatten(-1, (self.width, 2)),\n",
    "        )\n",
    "       \n",
    "\n",
    "    def forward(self, x):\n",
    "        batch = x.shape[0]\n",
    "        x = x.reshape(batch, 1, self.width, len(feature_names) + 4)\n",
    "        x = self.conv_layers(x)\n",
    "        x = self.fc_layers(x)\n",
    "        x = torch.squeeze(x)\n",
    "        return F.log_softmax(x, dim=-1)\n"
   ]
  },
  {
   "cell_type": "markdown",
   "metadata": {},
   "source": [
    "# Optuning parameters"
   ]
  },
  {
   "cell_type": "code",
   "execution_count": 24,
   "metadata": {},
   "outputs": [],
   "source": [
    "from torch import optim\n",
    "\n",
    "def objective(trial):\n",
    "    width = 100\n",
    "    loader_train, loader_test = get_train_test_data(width)\n",
    "\n",
    "    set_random_seed(42)\n",
    "    torch.cuda.empty_cache()\n",
    "    device = torch.device(\"cuda:0\" if torch.cuda.is_available() else \"cpu\")\n",
    "\n",
    "    #with torch.cuda.device(device):\n",
    "    model = DeepCNN_OptunaTuned(trial, width)\n",
    "    model = nn.DataParallel(model)\n",
    "    model = model.to(device)\n",
    "\n",
    "    optimizer_name = trial.suggest_categorical(\"optimizer\", [\"Adam\", \"RMSprop\", \"SGD\", \"AdamW\"])\n",
    "    lr = trial.suggest_float(\"learning_rate\", 1e-5, 1e-2, log=True)\n",
    "    weight_decay = trial.suggest_float(\"weight_decay\", 1e-6, 1e-3, log=True)\n",
    "\n",
    "    if optimizer_name == \"Adam\":\n",
    "        opt = optim.Adam(model.parameters(), lr=lr, weight_decay=weight_decay)\n",
    "    elif optimizer_name == \"RMSprop\":\n",
    "        opt = optim.RMSprop(model.parameters(), lr=lr, weight_decay=weight_decay)\n",
    "    elif optimizer_name == \"SGD\":\n",
    "        momentum = trial.suggest_float(\"momentum\", 0.5, 0.99)\n",
    "        opt = optim.SGD(model.parameters(), lr=lr, weight_decay=weight_decay, momentum=momentum)\n",
    "    elif optimizer_name == \"AdamW\":\n",
    "        opt = optim.AdamW(model.parameters(), lr=lr, weight_decay=weight_decay)\n",
    "    \n",
    "    try:\n",
    "        f1 = train_optuna(trial, model, opt, 4)\n",
    "    except optuna.exceptions.TrialPruned:\n",
    "        return 0\n",
    "\n",
    "    return f1"
   ]
  },
  {
   "cell_type": "code",
   "execution_count": null,
   "metadata": {},
   "outputs": [
    {
     "name": "stderr",
     "output_type": "stream",
     "text": [
      "[I 2025-04-05 11:58:52,503] Using an existing study with name 'my_study' instead of creating a new one.\n"
     ]
    },
    {
     "name": "stdout",
     "output_type": "stream",
     "text": [
      "Using an existing study with name 'my_study' instead of creating a new one.\n",
      "Using an existing study with name 'my_study' instead of creating a new one.\n"
     ]
    }
   ],
   "source": [
    "optuna.logging.get_logger(\"optuna\").addHandler(logging.FileHandler(\"./logs/cnn_g4_optuna.log\"))\n",
    "\n",
    "study = optuna.create_study(\n",
    "    study_name=\"my_study\",\n",
    "    direction=\"maximize\",\n",
    "    sampler=optuna.samplers.TPESampler(),\n",
    "    pruner=optuna.pruners.MedianPruner(n_warmup_steps=0),\n",
    "    storage=\"sqlite:///optuna_study.db\",\n",
    "    load_if_exists=True,\n",
    ")\n",
    "\n",
    "study.optimize(objective, gc_after_trial=True)"
   ]
  }
 ],
 "metadata": {
  "kernelspec": {
   "display_name": "Google Colab Analog 2024 (PyTorch 2.5.1 + TensorFlow 2.18) [python-google_colab_gpu_2024]",
   "language": "python",
   "name": "conda-env-python-google_colab_gpu_2024-py"
  },
  "language_info": {
   "codemirror_mode": {
    "name": "ipython",
    "version": 3
   },
   "file_extension": ".py",
   "mimetype": "text/x-python",
   "name": "python",
   "nbconvert_exporter": "python",
   "pygments_lexer": "ipython3",
   "version": "3.10.15"
  }
 },
 "nbformat": 4,
 "nbformat_minor": 4
}
